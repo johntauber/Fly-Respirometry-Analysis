{
 "cells": [
  {
   "cell_type": "markdown",
   "metadata": {},
   "source": [
    "## Import Libraries that will be needed"
   ]
  },
  {
   "cell_type": "code",
   "execution_count": 1,
   "metadata": {
    "collapsed": true
   },
   "outputs": [],
   "source": [
    "import pandas as pd"
   ]
  },
  {
   "cell_type": "markdown",
   "metadata": {},
   "source": [
    "## Import data from .csv"
   ]
  },
  {
   "cell_type": "code",
   "execution_count": 2,
   "metadata": {
    "collapsed": true
   },
   "outputs": [],
   "source": [
    "df = pd.read_csv(\"BethTestData.csv\")"
   ]
  },
  {
   "cell_type": "code",
   "execution_count": 12,
   "metadata": {
    "collapsed": true
   },
   "outputs": [],
   "source": [
    "# Trim to appropriate length for 24h time window\n",
    "df = df[:288]"
   ]
  },
  {
   "cell_type": "code",
   "execution_count": 18,
   "metadata": {
    "collapsed": true
   },
   "outputs": [],
   "source": [
    "# Need to add col for identity of night vs day"
   ]
  },
  {
   "cell_type": "markdown",
   "metadata": {},
   "source": [
    "## Generate bout indices"
   ]
  },
  {
   "cell_type": "code",
   "execution_count": 30,
   "metadata": {},
   "outputs": [],
   "source": [
    "# Script for collecting bouts\n",
    "# Will need to create a list of bout indices to access resp data during bouts\n",
    "def get_bout_indices(L):\n",
    "    \"\"\"\n",
    "    Takes a list L and returns a list of tuples of the start/end indices in which sleeping bouts occurred.\n",
    "    I.e. if two sleeping bouts occured, the first from index 5 to 20, and the second from index 30 to 40,\n",
    "    this function will return [(5,20), (30,40)]\n",
    "    \"\"\"\n",
    "    indices = []\n",
    "    start_index = 1\n",
    "    end_index = 1\n",
    "    in_bout = False\n",
    "    \n",
    "    for i in range(len(L)):\n",
    "        if L[i] == 0 and in_bout == False: \n",
    "            start_index = i\n",
    "            in_bout = True\n",
    "        if (L[i] != 0 or i == len(L)-1) and in_bout == True:\n",
    "            end_index = i\n",
    "            in_bout = False\n",
    "            indices.append((start_index, end_index))\n",
    "    return indices \n",
    "        "
   ]
  },
  {
   "cell_type": "code",
   "execution_count": 32,
   "metadata": {},
   "outputs": [],
   "source": [
    "bout_indicies = get_bout_indices(test_list)"
   ]
  },
  {
   "cell_type": "code",
   "execution_count": 44,
   "metadata": {},
   "outputs": [],
   "source": [
    "# Will now need to access corresponding respirometry values in df, and store values in a list\n",
    "resp_bouts = []\n",
    "for i in bout_indicies:\n",
    "    resp_bouts.append(list(df.uL_Channel_2)[i[0]:i[1]])"
   ]
  },
  {
   "cell_type": "markdown",
   "metadata": {},
   "source": [
    "## Export to .csv"
   ]
  },
  {
   "cell_type": "code",
   "execution_count": 51,
   "metadata": {
    "collapsed": true
   },
   "outputs": [],
   "source": [
    "# Now we put this list of lists into a csv\n",
    "resp_bouts_df = pd.DataFrame(resp_bouts).transpose()\n",
    "resp_bouts_df.to_csv('test.csv', index=False, header=False)"
   ]
  }
 ],
 "metadata": {
  "kernelspec": {
   "display_name": "Python 3",
   "language": "python",
   "name": "python3"
  },
  "language_info": {
   "codemirror_mode": {
    "name": "ipython",
    "version": 3
   },
   "file_extension": ".py",
   "mimetype": "text/x-python",
   "name": "python",
   "nbconvert_exporter": "python",
   "pygments_lexer": "ipython3",
   "version": "3.6.0"
  }
 },
 "nbformat": 4,
 "nbformat_minor": 2
}
