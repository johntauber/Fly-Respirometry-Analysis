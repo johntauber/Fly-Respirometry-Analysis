{
 "cells": [
  {
   "cell_type": "markdown",
   "metadata": {},
   "source": [
    "## Functionality that needs to be added\n",
    "\n",
    "- ~~Trim Raw Input~~\n",
    "- ~~Night vs Day bouts (critera - choose where over 50% of bout is spent, in case of tie choose night)~~\n",
    "- Create Sleep Profile and summary stats\n",
    "- Create function to run all flies and arrange in exportable format\n",
    "- Write to seperate sheets in Excel"
   ]
  },
  {
   "cell_type": "markdown",
   "metadata": {},
   "source": [
    "### Import Libraries that will be needed"
   ]
  },
  {
   "cell_type": "code",
   "execution_count": 1,
   "metadata": {
    "collapsed": true
   },
   "outputs": [],
   "source": [
    "import pandas as pd\n",
    "import datetime"
   ]
  },
  {
   "cell_type": "markdown",
   "metadata": {},
   "source": [
    "### Import data from .csv"
   ]
  },
  {
   "cell_type": "code",
   "execution_count": 2,
   "metadata": {
    "collapsed": true
   },
   "outputs": [],
   "source": [
    "df_raw = pd.read_csv(\"Bethany_Raw.csv\")"
   ]
  },
  {
   "cell_type": "markdown",
   "metadata": {},
   "source": [
    "### Trim to 24 hour range"
   ]
  },
  {
   "cell_type": "code",
   "execution_count": 3,
   "metadata": {
    "collapsed": true
   },
   "outputs": [],
   "source": [
    "lower_limit = datetime.time(10,0,0)\n",
    "upper_limit = datetime.time(10,5,0)\n",
    "def get_data_range(L, lower_limit, upper_limit):\n",
    "    \"\"\"\n",
    "    Find the start and end indices for a 24 hour range starting between a given time range\n",
    "    Takes arguments L - a list of datetime.time objects, lower_limit and upper_limit - datetime.time objects \n",
    "    to specificy the range in which to choose the start time\n",
    "    Returns a tuple: (start_index, end_index)\n",
    "    \"\"\"\n",
    "    start_index = 0\n",
    "    for i in range(len(L)):\n",
    "        if L[i] >= lower_limit and L[i] < upper_limit:\n",
    "            start_index = i\n",
    "            break\n",
    "    return (start_index, start_index + 288)\n"
   ]
  },
  {
   "cell_type": "code",
   "execution_count": 4,
   "metadata": {
    "collapsed": true
   },
   "outputs": [],
   "source": [
    "# Test trim on raw data\n",
    "df_raw.Time = pd.to_datetime(df_raw.Time, format='%H:%M:%S').dt.time\n",
    "trim_index = get_data_range(list(df_raw.Time), lower_limit, upper_limit)\n",
    "df_trim = df_raw[trim_index[0]:trim_index[1]]\n",
    "df_trim = df_trim.reset_index(drop=True)"
   ]
  },
  {
   "cell_type": "markdown",
   "metadata": {},
   "source": [
    "### Make a column of bools to indicate day vs night"
   ]
  },
  {
   "cell_type": "code",
   "execution_count": 5,
   "metadata": {
    "collapsed": true
   },
   "outputs": [],
   "source": [
    "def isNight(x):\n",
    "    night_start = datetime.time(22,0,0)\n",
    "    night_end = datetime.time(10,0,0)\n",
    "    if (x >= night_start and x < datetime.time(23, 59, 59)) or x < night_end:\n",
    "        return True\n",
    "    else:\n",
    "        return False"
   ]
  },
  {
   "cell_type": "code",
   "execution_count": 6,
   "metadata": {
    "collapsed": true
   },
   "outputs": [],
   "source": [
    "df_trim.loc[:,'isNight'] = df_trim.Time.apply(isNight)"
   ]
  },
  {
   "cell_type": "markdown",
   "metadata": {},
   "source": [
    "### Generate bout indices"
   ]
  },
  {
   "cell_type": "code",
   "execution_count": 7,
   "metadata": {
    "collapsed": true
   },
   "outputs": [],
   "source": [
    "# Script for collecting bouts\n",
    "# Will need to create a list of bout indices to access resp data during bouts\n",
    "def get_bout_indices(L):\n",
    "    \"\"\"\n",
    "    Takes a list L and returns a list of tuples of the start/end indices in which sleeping bouts occurred.\n",
    "    I.e. if two sleeping bouts occured, the first from index 5 to 20, and the second from index 30 to 40,\n",
    "    this function will return [(5,20), (30,40)]\n",
    "    \"\"\"\n",
    "    indices = []\n",
    "    start_index = 1\n",
    "    end_index = 1\n",
    "    in_bout = False\n",
    "    \n",
    "    for i in range(len(L)):\n",
    "        if L[i] == 0 and in_bout == False: \n",
    "            start_index = i\n",
    "            in_bout = True\n",
    "        if (L[i] != 0 or i == len(L)-1) and in_bout == True:\n",
    "            end_index = i\n",
    "            in_bout = False\n",
    "            if i == len(L)-1:\n",
    "                indices.append((start_index, end_index+1))\n",
    "            else:\n",
    "                indices.append((start_index, end_index))\n",
    "    return indices \n",
    "        "
   ]
  },
  {
   "cell_type": "markdown",
   "metadata": {},
   "source": [
    "### Get day bouts and night bouts"
   ]
  },
  {
   "cell_type": "code",
   "execution_count": 17,
   "metadata": {
    "collapsed": true
   },
   "outputs": [],
   "source": [
    "# Need to put this into a function, and make a loop to generate day/night bouts for each fly of 5 in the df\n",
    "def get_day_night_bouts(df, resp_colnum, sleep_colnum):\n",
    "    bout_indicies = get_bout_indices(list(df.iloc[:,sleep_colnum]))\n",
    "    resp_bouts_day = []\n",
    "    resp_bouts_night = []\n",
    "    for i in bout_indicies:\n",
    "        if df.isNight[i[0]:i[1]].mean() >= 0.5:\n",
    "            resp_bouts_night.append(list(df.iloc[:,resp_colnum])[i[0]:i[1]])\n",
    "        else:\n",
    "            resp_bouts_day.append(list(df.iloc[:,resp_colnum])[i[0]:i[1]])\n",
    "    return resp_bouts_day, resp_bouts_night"
   ]
  },
  {
   "cell_type": "markdown",
   "metadata": {},
   "source": [
    "### Get sleep profile \n"
   ]
  },
  {
   "cell_type": "code",
   "execution_count": 26,
   "metadata": {},
   "outputs": [],
   "source": [
    "fly1_sleep = df_trim['w1118 BL 6326']\n",
    "fly1_resp = df_trim.uL_Channel_2\n",
    "hourly_resp_sleep = []\n",
    "for i in range(24):\n",
    "    sleep = fly1_sleep[i*12:i*12+12]\n",
    "    resp = fly1_resp[i*12:i*12+12]\n",
    "    num_sleep_blocks = 0\n",
    "    for i in sleep:\n",
    "        if i == 0:\n",
    "            num_sleep_blocks += 1\n",
    "    sleep_avg = num_sleep_blocks / 12 * 100\n",
    "    hourly_resp_sleep.append((resp.sum(), sleep_avg))\n",
    "    "
   ]
  },
  {
   "cell_type": "code",
   "execution_count": 27,
   "metadata": {},
   "outputs": [
    {
     "data": {
      "text/plain": [
       "[(13.666723000000001, 0.0),\n",
       " (14.268239, 0.0),\n",
       " (14.507468000000003, 0.0),\n",
       " (15.105396000000002, 0.0),\n",
       " (14.410743, 0.0),\n",
       " (15.773512000000004, 75.0),\n",
       " (14.073482, 100.0),\n",
       " (15.142212999999998, 66.66666666666666),\n",
       " (15.210787, 41.66666666666667),\n",
       " (20.560867199999997, 83.33333333333334),\n",
       " (11.7697673, 83.33333333333334),\n",
       " (13.463753700000002, 33.33333333333333),\n",
       " (11.624898799999997, 33.33333333333333),\n",
       " (10.687663299999999, 100.0),\n",
       " (10.567919900000001, 75.0),\n",
       " (11.7880435, 33.33333333333333),\n",
       " (16.026454, 75.0),\n",
       " (15.986037999999999, 75.0),\n",
       " (15.470852, 66.66666666666666),\n",
       " (14.086167, 75.0),\n",
       " (13.615887, 91.66666666666666),\n",
       " (13.834914, 91.66666666666666),\n",
       " (14.610688999999999, 83.33333333333334),\n",
       " (14.777592999999998, 83.33333333333334)]"
      ]
     },
     "execution_count": 27,
     "metadata": {},
     "output_type": "execute_result"
    }
   ],
   "source": [
    "hourly_resp_sleep"
   ]
  },
  {
   "cell_type": "code",
   "execution_count": 35,
   "metadata": {},
   "outputs": [],
   "source": [
    "dict1 = {}\n",
    "dict1['time'] = [df_trim.Time[x*12-1] for x in range(1, 25)]\n",
    "dict1['MRsum'] = [x[0] for x in hourly_resp_sleep]\n",
    "dict1['avg_sleep'] = [x[1] for x in hourly_resp_sleep]"
   ]
  },
  {
   "cell_type": "code",
   "execution_count": 36,
   "metadata": {},
   "outputs": [
    {
     "data": {
      "text/html": [
       "<div>\n",
       "<table border=\"1\" class=\"dataframe\">\n",
       "  <thead>\n",
       "    <tr style=\"text-align: right;\">\n",
       "      <th></th>\n",
       "      <th>time</th>\n",
       "      <th>MRsum</th>\n",
       "      <th>avg_sleep</th>\n",
       "    </tr>\n",
       "  </thead>\n",
       "  <tbody>\n",
       "    <tr>\n",
       "      <th>0</th>\n",
       "      <td>10:56:04</td>\n",
       "      <td>13.666723</td>\n",
       "      <td>0.000000</td>\n",
       "    </tr>\n",
       "    <tr>\n",
       "      <th>1</th>\n",
       "      <td>11:56:04</td>\n",
       "      <td>14.268239</td>\n",
       "      <td>0.000000</td>\n",
       "    </tr>\n",
       "    <tr>\n",
       "      <th>2</th>\n",
       "      <td>12:56:04</td>\n",
       "      <td>14.507468</td>\n",
       "      <td>0.000000</td>\n",
       "    </tr>\n",
       "    <tr>\n",
       "      <th>3</th>\n",
       "      <td>13:56:04</td>\n",
       "      <td>15.105396</td>\n",
       "      <td>0.000000</td>\n",
       "    </tr>\n",
       "    <tr>\n",
       "      <th>4</th>\n",
       "      <td>14:56:04</td>\n",
       "      <td>14.410743</td>\n",
       "      <td>0.000000</td>\n",
       "    </tr>\n",
       "    <tr>\n",
       "      <th>5</th>\n",
       "      <td>15:56:04</td>\n",
       "      <td>15.773512</td>\n",
       "      <td>75.000000</td>\n",
       "    </tr>\n",
       "    <tr>\n",
       "      <th>6</th>\n",
       "      <td>16:56:04</td>\n",
       "      <td>14.073482</td>\n",
       "      <td>100.000000</td>\n",
       "    </tr>\n",
       "    <tr>\n",
       "      <th>7</th>\n",
       "      <td>17:56:04</td>\n",
       "      <td>15.142213</td>\n",
       "      <td>66.666667</td>\n",
       "    </tr>\n",
       "    <tr>\n",
       "      <th>8</th>\n",
       "      <td>18:56:04</td>\n",
       "      <td>15.210787</td>\n",
       "      <td>41.666667</td>\n",
       "    </tr>\n",
       "    <tr>\n",
       "      <th>9</th>\n",
       "      <td>19:56:05</td>\n",
       "      <td>20.560867</td>\n",
       "      <td>83.333333</td>\n",
       "    </tr>\n",
       "    <tr>\n",
       "      <th>10</th>\n",
       "      <td>20:56:05</td>\n",
       "      <td>11.769767</td>\n",
       "      <td>83.333333</td>\n",
       "    </tr>\n",
       "    <tr>\n",
       "      <th>11</th>\n",
       "      <td>21:56:05</td>\n",
       "      <td>13.463754</td>\n",
       "      <td>33.333333</td>\n",
       "    </tr>\n",
       "    <tr>\n",
       "      <th>12</th>\n",
       "      <td>22:56:05</td>\n",
       "      <td>11.624899</td>\n",
       "      <td>33.333333</td>\n",
       "    </tr>\n",
       "    <tr>\n",
       "      <th>13</th>\n",
       "      <td>23:56:05</td>\n",
       "      <td>10.687663</td>\n",
       "      <td>100.000000</td>\n",
       "    </tr>\n",
       "    <tr>\n",
       "      <th>14</th>\n",
       "      <td>00:56:05</td>\n",
       "      <td>10.567920</td>\n",
       "      <td>75.000000</td>\n",
       "    </tr>\n",
       "    <tr>\n",
       "      <th>15</th>\n",
       "      <td>01:56:05</td>\n",
       "      <td>11.788044</td>\n",
       "      <td>33.333333</td>\n",
       "    </tr>\n",
       "    <tr>\n",
       "      <th>16</th>\n",
       "      <td>02:56:05</td>\n",
       "      <td>16.026454</td>\n",
       "      <td>75.000000</td>\n",
       "    </tr>\n",
       "    <tr>\n",
       "      <th>17</th>\n",
       "      <td>03:56:05</td>\n",
       "      <td>15.986038</td>\n",
       "      <td>75.000000</td>\n",
       "    </tr>\n",
       "    <tr>\n",
       "      <th>18</th>\n",
       "      <td>04:56:05</td>\n",
       "      <td>15.470852</td>\n",
       "      <td>66.666667</td>\n",
       "    </tr>\n",
       "    <tr>\n",
       "      <th>19</th>\n",
       "      <td>05:56:05</td>\n",
       "      <td>14.086167</td>\n",
       "      <td>75.000000</td>\n",
       "    </tr>\n",
       "    <tr>\n",
       "      <th>20</th>\n",
       "      <td>06:56:05</td>\n",
       "      <td>13.615887</td>\n",
       "      <td>91.666667</td>\n",
       "    </tr>\n",
       "    <tr>\n",
       "      <th>21</th>\n",
       "      <td>07:56:06</td>\n",
       "      <td>13.834914</td>\n",
       "      <td>91.666667</td>\n",
       "    </tr>\n",
       "    <tr>\n",
       "      <th>22</th>\n",
       "      <td>08:56:06</td>\n",
       "      <td>14.610689</td>\n",
       "      <td>83.333333</td>\n",
       "    </tr>\n",
       "    <tr>\n",
       "      <th>23</th>\n",
       "      <td>09:56:06</td>\n",
       "      <td>14.777593</td>\n",
       "      <td>83.333333</td>\n",
       "    </tr>\n",
       "  </tbody>\n",
       "</table>\n",
       "</div>"
      ],
      "text/plain": [
       "        time      MRsum   avg_sleep\n",
       "0   10:56:04  13.666723    0.000000\n",
       "1   11:56:04  14.268239    0.000000\n",
       "2   12:56:04  14.507468    0.000000\n",
       "3   13:56:04  15.105396    0.000000\n",
       "4   14:56:04  14.410743    0.000000\n",
       "5   15:56:04  15.773512   75.000000\n",
       "6   16:56:04  14.073482  100.000000\n",
       "7   17:56:04  15.142213   66.666667\n",
       "8   18:56:04  15.210787   41.666667\n",
       "9   19:56:05  20.560867   83.333333\n",
       "10  20:56:05  11.769767   83.333333\n",
       "11  21:56:05  13.463754   33.333333\n",
       "12  22:56:05  11.624899   33.333333\n",
       "13  23:56:05  10.687663  100.000000\n",
       "14  00:56:05  10.567920   75.000000\n",
       "15  01:56:05  11.788044   33.333333\n",
       "16  02:56:05  16.026454   75.000000\n",
       "17  03:56:05  15.986038   75.000000\n",
       "18  04:56:05  15.470852   66.666667\n",
       "19  05:56:05  14.086167   75.000000\n",
       "20  06:56:05  13.615887   91.666667\n",
       "21  07:56:06  13.834914   91.666667\n",
       "22  08:56:06  14.610689   83.333333\n",
       "23  09:56:06  14.777593   83.333333"
      ]
     },
     "execution_count": 36,
     "metadata": {},
     "output_type": "execute_result"
    }
   ],
   "source": [
    "pd.DataFrame(dict1, columns=['time', 'MRsum', 'avg_sleep'])"
   ]
  },
  {
   "cell_type": "markdown",
   "metadata": {},
   "source": [
    "## Export to .csv"
   ]
  },
  {
   "cell_type": "code",
   "execution_count": 51,
   "metadata": {
    "collapsed": true
   },
   "outputs": [],
   "source": [
    "# Now we save this list of lists as a csv\n",
    "resp_bouts_df = pd.DataFrame(resp_bouts).transpose()\n",
    "resp_bouts_df.to_csv('test.csv', index=False, header=False)"
   ]
  }
 ],
 "metadata": {
  "kernelspec": {
   "display_name": "Python 3",
   "language": "python",
   "name": "python3"
  },
  "language_info": {
   "codemirror_mode": {
    "name": "ipython",
    "version": 3
   },
   "file_extension": ".py",
   "mimetype": "text/x-python",
   "name": "python",
   "nbconvert_exporter": "python",
   "pygments_lexer": "ipython3",
   "version": "3.6.0"
  }
 },
 "nbformat": 4,
 "nbformat_minor": 2
}
