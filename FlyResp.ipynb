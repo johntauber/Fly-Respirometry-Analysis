{
 "cells": [
  {
   "cell_type": "markdown",
   "metadata": {},
   "source": [
    "## Functionality that needs to be added\n",
    "\n",
    "- ~~Trim Raw Input~~\n",
    "- ~~Night vs Day bouts (critera - choose where over 50% of bout is spent, in case of tie choose night)~~\n",
    "- Create Sleep Profile and summary stats\n",
    "- Write to seperate sheets in Excel"
   ]
  },
  {
   "cell_type": "markdown",
   "metadata": {},
   "source": [
    "### Import Libraries that will be needed"
   ]
  },
  {
   "cell_type": "code",
   "execution_count": 1,
   "metadata": {
    "collapsed": true
   },
   "outputs": [],
   "source": [
    "import pandas as pd\n",
    "import datetime"
   ]
  },
  {
   "cell_type": "markdown",
   "metadata": {},
   "source": [
    "### Import data from .csv"
   ]
  },
  {
   "cell_type": "code",
   "execution_count": 2,
   "metadata": {
    "collapsed": true
   },
   "outputs": [],
   "source": [
    "df_raw = pd.read_csv(\"Bethany_Raw.csv\")"
   ]
  },
  {
   "cell_type": "markdown",
   "metadata": {},
   "source": [
    "### Trim to 24 hour range"
   ]
  },
  {
   "cell_type": "code",
   "execution_count": 3,
   "metadata": {
    "collapsed": true
   },
   "outputs": [],
   "source": [
    "lower_limit = datetime.time(10,0,0)\n",
    "upper_limit = datetime.time(10,5,0)\n",
    "def get_data_range(L, lower_limit, upper_limit):\n",
    "    \"\"\"\n",
    "    Find the start and end indices for a 24 hour range starting between a given time range\n",
    "    Takes arguments L - a list of datetime.time objects, lower_limit and upper_limit - datetime.time objects \n",
    "    to specificy the range in which to choose the start time\n",
    "    Returns a tuple: (start_index, end_index)\n",
    "    \"\"\"\n",
    "    start_index = 0\n",
    "    for i in range(len(L)):\n",
    "        if L[i] >= lower_limit and L[i] < upper_limit:\n",
    "            start_index = i\n",
    "            break\n",
    "    return (start_index, start_index + 288)\n"
   ]
  },
  {
   "cell_type": "code",
   "execution_count": 4,
   "metadata": {
    "collapsed": true
   },
   "outputs": [],
   "source": [
    "# Test trim on raw data\n",
    "df_raw.Time = pd.to_datetime(df_raw.Time, format='%H:%M:%S').dt.time\n",
    "trim_index = get_data_range(list(df_raw.Time), lower_limit, upper_limit)\n",
    "df_trim = df_raw[trim_index[0]:trim_index[1]]\n",
    "df_trim = df_trim.reset_index(drop=True)"
   ]
  },
  {
   "cell_type": "markdown",
   "metadata": {},
   "source": [
    "### Make a column of bools to indicate day vs night"
   ]
  },
  {
   "cell_type": "code",
   "execution_count": 5,
   "metadata": {
    "collapsed": true
   },
   "outputs": [],
   "source": [
    "def isNight(x):\n",
    "    night_start = datetime.time(22,0,0)\n",
    "    night_end = datetime.time(10,0,0)\n",
    "    if (x >= night_start and x < datetime.time(23, 59, 59)) or x < night_end:\n",
    "        return True\n",
    "    else:\n",
    "        return False"
   ]
  },
  {
   "cell_type": "code",
   "execution_count": 6,
   "metadata": {
    "collapsed": true
   },
   "outputs": [],
   "source": [
    "df_trim.loc[:,'isNight'] = df_trim.Time.apply(isNight)"
   ]
  },
  {
   "cell_type": "markdown",
   "metadata": {},
   "source": [
    "### Generate bout indices"
   ]
  },
  {
   "cell_type": "code",
   "execution_count": 7,
   "metadata": {
    "collapsed": true
   },
   "outputs": [],
   "source": [
    "# Script for collecting bouts\n",
    "# Will need to create a list of bout indices to access resp data during bouts\n",
    "def get_bout_indices(L):\n",
    "    \"\"\"\n",
    "    Takes a list L and returns a list of tuples of the start/end indices in which sleeping bouts occurred.\n",
    "    I.e. if two sleeping bouts occured, the first from index 5 to 20, and the second from index 30 to 40,\n",
    "    this function will return [(5,20), (30,40)]\n",
    "    \"\"\"\n",
    "    indices = []\n",
    "    start_index = 1\n",
    "    end_index = 1\n",
    "    in_bout = False\n",
    "    \n",
    "    for i in range(len(L)):\n",
    "        if L[i] == 0 and in_bout == False: \n",
    "            start_index = i\n",
    "            in_bout = True\n",
    "        if (L[i] != 0 or i == len(L)-1) and in_bout == True:\n",
    "            end_index = i\n",
    "            in_bout = False\n",
    "            if i == len(L)-1:\n",
    "                indices.append((start_index, end_index+1))\n",
    "            else:\n",
    "                indices.append((start_index, end_index))\n",
    "    return indices \n",
    "        "
   ]
  },
  {
   "cell_type": "code",
   "execution_count": 8,
   "metadata": {},
   "outputs": [
    {
     "data": {
      "text/plain": [
       "[(61, 63),\n",
       " (65, 92),\n",
       " (96, 98),\n",
       " (99, 102),\n",
       " (109, 112),\n",
       " (113, 121),\n",
       " (123, 136),\n",
       " (151, 153),\n",
       " (154, 174),\n",
       " (177, 180),\n",
       " (183, 185),\n",
       " (188, 189),\n",
       " (190, 191),\n",
       " (192, 197),\n",
       " (198, 200),\n",
       " (201, 203),\n",
       " (204, 205),\n",
       " (206, 209),\n",
       " (210, 214),\n",
       " (215, 216),\n",
       " (217, 223),\n",
       " (225, 227),\n",
       " (228, 236),\n",
       " (239, 250),\n",
       " (251, 258),\n",
       " (259, 267),\n",
       " (268, 275),\n",
       " (277, 281),\n",
       " (282, 288)]"
      ]
     },
     "execution_count": 8,
     "metadata": {},
     "output_type": "execute_result"
    }
   ],
   "source": [
    "get_bout_indices(list(df_trim.iloc[:,11]))"
   ]
  },
  {
   "cell_type": "code",
   "execution_count": 9,
   "metadata": {},
   "outputs": [
    {
     "data": {
      "text/plain": [
       "[1.2434120000000002,\n",
       " 1.2348139999999999,\n",
       " 1.1852959999999999,\n",
       " 1.140252,\n",
       " 1.1358409999999999,\n",
       " 1.144841]"
      ]
     },
     "execution_count": 9,
     "metadata": {},
     "output_type": "execute_result"
    }
   ],
   "source": [
    "list(df_trim.iloc[:,4])[282:288]"
   ]
  },
  {
   "cell_type": "markdown",
   "metadata": {},
   "source": [
    "### Get day bouts and night bouts"
   ]
  },
  {
   "cell_type": "code",
   "execution_count": 17,
   "metadata": {
    "collapsed": true
   },
   "outputs": [],
   "source": [
    "# Need to put this into a function, and make a loop to generate day/night bouts for each fly of 5 in the df\n",
    "def get_day_night_bouts(df, resp_colnum, sleep_colnum):\n",
    "    bout_indicies = get_bout_indices(list(df.iloc[:,sleep_colnum]))\n",
    "    resp_bouts_day = []\n",
    "    resp_bouts_night = []\n",
    "    for i in bout_indicies:\n",
    "        if df.isNight[i[0]:i[1]].mean() >= 0.5:\n",
    "            resp_bouts_night.append(list(df.iloc[:,resp_colnum])[i[0]:i[1]])\n",
    "        else:\n",
    "            resp_bouts_day.append(list(df.iloc[:,resp_colnum])[i[0]:i[1]])\n",
    "    return resp_bouts_day, resp_bouts_night"
   ]
  },
  {
   "cell_type": "code",
   "execution_count": 18,
   "metadata": {},
   "outputs": [],
   "source": [
    "fly1_bouts = get_day_night_bouts(df_trim, 4,11)"
   ]
  },
  {
   "cell_type": "code",
   "execution_count": 19,
   "metadata": {},
   "outputs": [
    {
     "data": {
      "text/plain": [
       "[[0.85789090000000001, 0.90719620000000001],\n",
       " [0.86505089999999996,\n",
       "  0.89445400000000008,\n",
       "  0.9370075000000001,\n",
       "  0.91154709999999994,\n",
       "  0.90682649999999998,\n",
       "  0.9454458,\n",
       "  0.91049430000000009,\n",
       "  0.86561049999999995,\n",
       "  0.87170170000000002,\n",
       "  0.8504896999999999,\n",
       "  0.86692659999999999,\n",
       "  0.85906460000000007,\n",
       "  0.90022640000000009,\n",
       "  0.86232260000000005,\n",
       "  0.87401369999999989,\n",
       "  0.84854390000000002,\n",
       "  0.85547329999999999,\n",
       "  0.84415949999999995,\n",
       "  0.85118440000000006,\n",
       "  0.90393050000000008],\n",
       " [0.81070410000000004, 0.84026119999999993, 0.84216540000000006],\n",
       " [0.88346559999999985, 0.84457309999999997],\n",
       " [0.91185919999999987],\n",
       " [0.86056630000000001],\n",
       " [1.2458659999999999, 1.3135059999999998, 1.260168, 1.257457, 1.25207],\n",
       " [1.348179, 1.3587149999999999],\n",
       " [1.2810170000000001, 1.289906],\n",
       " [1.3265719999999999],\n",
       " [1.2916370000000001, 1.314786, 1.3047],\n",
       " [1.332193, 1.293156, 1.315069, 1.2358120000000001],\n",
       " [1.2810159999999999],\n",
       " [1.2455889999999998,\n",
       "  1.293876,\n",
       "  1.228817,\n",
       "  1.196723,\n",
       "  1.2558940000000001,\n",
       "  1.186075],\n",
       " [1.33944, 1.415735],\n",
       " [1.2300520000000001,\n",
       "  1.2575129999999999,\n",
       "  1.232634,\n",
       "  1.1776870000000002,\n",
       "  1.2017549999999999,\n",
       "  1.1968540000000001,\n",
       "  1.1190500000000001,\n",
       "  1.1783549999999998],\n",
       " [1.0815569999999999,\n",
       "  1.076918,\n",
       "  1.085256,\n",
       "  1.06325,\n",
       "  1.1184989999999999,\n",
       "  1.0980719999999999,\n",
       "  1.1258600000000001,\n",
       "  1.122457,\n",
       "  1.146671,\n",
       "  1.132744,\n",
       "  1.2338770000000001],\n",
       " [1.1603540000000001,\n",
       "  1.1721790000000001,\n",
       "  1.1394249999999999,\n",
       "  1.149332,\n",
       "  1.1642860000000002,\n",
       "  1.169659,\n",
       "  1.1793209999999998],\n",
       " [1.170458,\n",
       "  1.1324969999999999,\n",
       "  1.110282,\n",
       "  1.1117299999999999,\n",
       "  1.1027129999999998,\n",
       "  1.0620959999999999,\n",
       "  1.0566799999999998,\n",
       "  1.0495749999999999],\n",
       " [1.2668919999999999,\n",
       "  1.33392,\n",
       "  1.3266790000000002,\n",
       "  1.2298180000000001,\n",
       "  1.2524870000000001,\n",
       "  1.24597,\n",
       "  1.2238069999999999],\n",
       " [1.2566409999999999, 1.2378180000000001, 1.2369809999999999, 1.229951],\n",
       " [1.2434120000000002,\n",
       "  1.2348139999999999,\n",
       "  1.1852959999999999,\n",
       "  1.140252,\n",
       "  1.1358409999999999,\n",
       "  1.144841]]"
      ]
     },
     "execution_count": 19,
     "metadata": {},
     "output_type": "execute_result"
    }
   ],
   "source": [
    "fly1_bouts[1]"
   ]
  },
  {
   "cell_type": "markdown",
   "metadata": {},
   "source": [
    "## Export to .csv"
   ]
  },
  {
   "cell_type": "code",
   "execution_count": 51,
   "metadata": {
    "collapsed": true
   },
   "outputs": [],
   "source": [
    "# Now we save this list of lists as a csv\n",
    "resp_bouts_df = pd.DataFrame(resp_bouts).transpose()\n",
    "resp_bouts_df.to_csv('test.csv', index=False, header=False)"
   ]
  }
 ],
 "metadata": {
  "kernelspec": {
   "display_name": "Python 3",
   "language": "python",
   "name": "python3"
  },
  "language_info": {
   "codemirror_mode": {
    "name": "ipython",
    "version": 3
   },
   "file_extension": ".py",
   "mimetype": "text/x-python",
   "name": "python",
   "nbconvert_exporter": "python",
   "pygments_lexer": "ipython3",
   "version": "3.6.0"
  }
 },
 "nbformat": 4,
 "nbformat_minor": 2
}
