{
 "cells": [
  {
   "cell_type": "markdown",
   "metadata": {},
   "source": [
    "## Functionality that needs to be added\n",
    "\n",
    "- ~~Trim Raw Input~~\n",
    "- Night vs Day bouts (critera - choose where over 50% of bout is spent, in case of tie choose night)\n",
    "- Create Sleep Profile and summary stats\n",
    "- Write to seperate sheets in Excel"
   ]
  },
  {
   "cell_type": "markdown",
   "metadata": {},
   "source": [
    "### Import Libraries that will be needed"
   ]
  },
  {
   "cell_type": "code",
   "execution_count": 85,
   "metadata": {
    "collapsed": true
   },
   "outputs": [],
   "source": [
    "import pandas as pd\n",
    "import datetime"
   ]
  },
  {
   "cell_type": "markdown",
   "metadata": {},
   "source": [
    "### Import data from .csv"
   ]
  },
  {
   "cell_type": "code",
   "execution_count": 2,
   "metadata": {
    "collapsed": true
   },
   "outputs": [],
   "source": [
    "df = pd.read_csv(\"BethTestData.csv\")"
   ]
  },
  {
   "cell_type": "code",
   "execution_count": 12,
   "metadata": {
    "collapsed": true
   },
   "outputs": [],
   "source": [
    "# Trim to appropriate length for 24h time window\n",
    "df = df[:288]"
   ]
  },
  {
   "cell_type": "markdown",
   "metadata": {},
   "source": [
    "### Trim to 24 hour range"
   ]
  },
  {
   "cell_type": "code",
   "execution_count": 102,
   "metadata": {},
   "outputs": [],
   "source": [
    "def get_data_range(L):\n",
    "    \"\"\"\n",
    "    Find the start and end indices for a 24 hour range starting between \n",
    "    10:00:00 and 10:04:59 and ending 24 hours later\n",
    "    *** Assumes the first instance of time between 10:00:00 and 10:04:59 is the start time! ***\n",
    "    Takes arguments L - a list of datetime.time objects\n",
    "    Returns a tuple: (start_index, end_index)\n",
    "    \"\"\"\n",
    "    lower_limit = datetime.time(10,0,0)\n",
    "    upper_limit = datetime.time(10,5,0)\n",
    "    start_index = 0\n",
    "    for i in range(len(L)):\n",
    "        if L[i] >= lower_limit and L[i] < upper_limit:\n",
    "            start_index = i\n",
    "            break\n",
    "    return (start_index, start_index + 288)\n"
   ]
  },
  {
   "cell_type": "code",
   "execution_count": 104,
   "metadata": {
    "collapsed": true
   },
   "outputs": [],
   "source": [
    "# Test trim on raw data\n",
    "df_raw = pd.read_csv(\"Bethany_Raw.csv\")\n",
    "df_raw.Time = pd.to_datetime(df_raw.Time, format='%H:%M:%S').dt.time"
   ]
  },
  {
   "cell_type": "code",
   "execution_count": 105,
   "metadata": {},
   "outputs": [],
   "source": [
    "trim_index = get_data_range(list(df_raw.Time))\n",
    "df_trim = df_raw[trim_index[0]:trim_index[1]]"
   ]
  },
  {
   "cell_type": "code",
   "execution_count": 106,
   "metadata": {},
   "outputs": [
    {
     "data": {
      "text/html": [
       "<div>\n",
       "<table border=\"1\" class=\"dataframe\">\n",
       "  <thead>\n",
       "    <tr style=\"text-align: right;\">\n",
       "      <th></th>\n",
       "      <th>Time</th>\n",
       "      <th>Filename</th>\n",
       "      <th>mean_Deg_C_1_1</th>\n",
       "      <th>uL_BL</th>\n",
       "      <th>uL_Channel_2</th>\n",
       "      <th>uL_Channel_3</th>\n",
       "      <th>uL_Channel_4</th>\n",
       "      <th>uL_Channel_5</th>\n",
       "      <th>uL_Channel_6</th>\n",
       "      <th>Unnamed: 9</th>\n",
       "      <th>Baseline</th>\n",
       "      <th>w1118 BL 6326</th>\n",
       "      <th>w1118 BL 6326.1</th>\n",
       "      <th>eaat2 e04636</th>\n",
       "      <th>eaat2 e04636.1</th>\n",
       "      <th>eaat2 e04636.2</th>\n",
       "    </tr>\n",
       "  </thead>\n",
       "  <tbody>\n",
       "    <tr>\n",
       "      <th>548</th>\n",
       "      <td>09:36:06</td>\n",
       "      <td>RepRec~04-28-2017_0552.exp</td>\n",
       "      <td>25.11143</td>\n",
       "      <td>0.169214</td>\n",
       "      <td>1.234814</td>\n",
       "      <td>0.955284</td>\n",
       "      <td>0.845982</td>\n",
       "      <td>0.881052</td>\n",
       "      <td>1.299192</td>\n",
       "      <td>NaN</td>\n",
       "      <td>0.0</td>\n",
       "      <td>0</td>\n",
       "      <td>0</td>\n",
       "      <td>0</td>\n",
       "      <td>0</td>\n",
       "      <td>0.0</td>\n",
       "    </tr>\n",
       "    <tr>\n",
       "      <th>549</th>\n",
       "      <td>09:41:06</td>\n",
       "      <td>RepRec~04-28-2017_0553.exp</td>\n",
       "      <td>24.85724</td>\n",
       "      <td>0.180109</td>\n",
       "      <td>1.185296</td>\n",
       "      <td>0.846394</td>\n",
       "      <td>0.833460</td>\n",
       "      <td>0.932308</td>\n",
       "      <td>1.324043</td>\n",
       "      <td>NaN</td>\n",
       "      <td>0.0</td>\n",
       "      <td>0</td>\n",
       "      <td>0</td>\n",
       "      <td>0</td>\n",
       "      <td>0</td>\n",
       "      <td>0.0</td>\n",
       "    </tr>\n",
       "    <tr>\n",
       "      <th>550</th>\n",
       "      <td>09:46:06</td>\n",
       "      <td>RepRec~04-28-2017_0554.exp</td>\n",
       "      <td>24.68118</td>\n",
       "      <td>0.171381</td>\n",
       "      <td>1.140252</td>\n",
       "      <td>0.803339</td>\n",
       "      <td>0.805544</td>\n",
       "      <td>0.907936</td>\n",
       "      <td>1.284124</td>\n",
       "      <td>NaN</td>\n",
       "      <td>0.0</td>\n",
       "      <td>0</td>\n",
       "      <td>0</td>\n",
       "      <td>0</td>\n",
       "      <td>0</td>\n",
       "      <td>0.0</td>\n",
       "    </tr>\n",
       "    <tr>\n",
       "      <th>551</th>\n",
       "      <td>09:51:06</td>\n",
       "      <td>RepRec~04-28-2017_0555.exp</td>\n",
       "      <td>24.54192</td>\n",
       "      <td>0.160445</td>\n",
       "      <td>1.135841</td>\n",
       "      <td>0.847280</td>\n",
       "      <td>0.801460</td>\n",
       "      <td>0.887825</td>\n",
       "      <td>1.273281</td>\n",
       "      <td>NaN</td>\n",
       "      <td>0.0</td>\n",
       "      <td>0</td>\n",
       "      <td>0</td>\n",
       "      <td>0</td>\n",
       "      <td>0</td>\n",
       "      <td>0.0</td>\n",
       "    </tr>\n",
       "    <tr>\n",
       "      <th>552</th>\n",
       "      <td>09:56:06</td>\n",
       "      <td>RepRec~04-28-2017_0556.exp</td>\n",
       "      <td>24.42790</td>\n",
       "      <td>0.168271</td>\n",
       "      <td>1.144841</td>\n",
       "      <td>0.839181</td>\n",
       "      <td>0.801850</td>\n",
       "      <td>0.896463</td>\n",
       "      <td>1.269652</td>\n",
       "      <td>NaN</td>\n",
       "      <td>0.0</td>\n",
       "      <td>0</td>\n",
       "      <td>0</td>\n",
       "      <td>0</td>\n",
       "      <td>0</td>\n",
       "      <td>0.0</td>\n",
       "    </tr>\n",
       "  </tbody>\n",
       "</table>\n",
       "</div>"
      ],
      "text/plain": [
       "         Time                    Filename  mean_Deg_C_1_1     uL_BL  \\\n",
       "548  09:36:06  RepRec~04-28-2017_0552.exp        25.11143  0.169214   \n",
       "549  09:41:06  RepRec~04-28-2017_0553.exp        24.85724  0.180109   \n",
       "550  09:46:06  RepRec~04-28-2017_0554.exp        24.68118  0.171381   \n",
       "551  09:51:06  RepRec~04-28-2017_0555.exp        24.54192  0.160445   \n",
       "552  09:56:06  RepRec~04-28-2017_0556.exp        24.42790  0.168271   \n",
       "\n",
       "     uL_Channel_2  uL_Channel_3  uL_Channel_4  uL_Channel_5  uL_Channel_6  \\\n",
       "548      1.234814      0.955284      0.845982      0.881052      1.299192   \n",
       "549      1.185296      0.846394      0.833460      0.932308      1.324043   \n",
       "550      1.140252      0.803339      0.805544      0.907936      1.284124   \n",
       "551      1.135841      0.847280      0.801460      0.887825      1.273281   \n",
       "552      1.144841      0.839181      0.801850      0.896463      1.269652   \n",
       "\n",
       "     Unnamed: 9  Baseline  w1118 BL 6326  w1118 BL 6326.1  eaat2 e04636  \\\n",
       "548         NaN       0.0              0                0             0   \n",
       "549         NaN       0.0              0                0             0   \n",
       "550         NaN       0.0              0                0             0   \n",
       "551         NaN       0.0              0                0             0   \n",
       "552         NaN       0.0              0                0             0   \n",
       "\n",
       "     eaat2 e04636.1  eaat2 e04636.2  \n",
       "548               0             0.0  \n",
       "549               0             0.0  \n",
       "550               0             0.0  \n",
       "551               0             0.0  \n",
       "552               0             0.0  "
      ]
     },
     "execution_count": 106,
     "metadata": {},
     "output_type": "execute_result"
    }
   ],
   "source": [
    "df_trim.tail()"
   ]
  },
  {
   "cell_type": "code",
   "execution_count": 18,
   "metadata": {
    "collapsed": true
   },
   "outputs": [],
   "source": [
    "# Need to add col for identity of night vs day"
   ]
  },
  {
   "cell_type": "markdown",
   "metadata": {},
   "source": [
    "### Generate bout indices"
   ]
  },
  {
   "cell_type": "code",
   "execution_count": 30,
   "metadata": {},
   "outputs": [],
   "source": [
    "# Script for collecting bouts\n",
    "# Will need to create a list of bout indices to access resp data during bouts\n",
    "def get_bout_indices(L):\n",
    "    \"\"\"\n",
    "    Takes a list L and returns a list of tuples of the start/end indices in which sleeping bouts occurred.\n",
    "    I.e. if two sleeping bouts occured, the first from index 5 to 20, and the second from index 30 to 40,\n",
    "    this function will return [(5,20), (30,40)]\n",
    "    \"\"\"\n",
    "    indices = []\n",
    "    start_index = 1\n",
    "    end_index = 1\n",
    "    in_bout = False\n",
    "    \n",
    "    for i in range(len(L)):\n",
    "        if L[i] == 0 and in_bout == False: \n",
    "            start_index = i\n",
    "            in_bout = True\n",
    "        if (L[i] != 0 or i == len(L)-1) and in_bout == True:\n",
    "            end_index = i\n",
    "            in_bout = False\n",
    "            indices.append((start_index, end_index))\n",
    "    return indices \n",
    "        "
   ]
  },
  {
   "cell_type": "code",
   "execution_count": 59,
   "metadata": {},
   "outputs": [],
   "source": [
    "# Will now need to access corresponding respirometry values in df, and store values in a list\n",
    "bout_indices = get_bout_indices(list(df[\"w1118 BL 6326\"]))\n",
    "resp_bouts = []\n",
    "for i in bout_indicies:\n",
    "    resp_bouts.append(list(df.uL_Channel_2)[i[0]:i[1]])"
   ]
  },
  {
   "cell_type": "markdown",
   "metadata": {},
   "source": [
    "## Export to .csv"
   ]
  },
  {
   "cell_type": "code",
   "execution_count": 51,
   "metadata": {
    "collapsed": true
   },
   "outputs": [],
   "source": [
    "# Now we put this list of lists into a csv\n",
    "resp_bouts_df = pd.DataFrame(resp_bouts).transpose()\n",
    "resp_bouts_df.to_csv('test.csv', index=False, header=False)"
   ]
  }
 ],
 "metadata": {
  "kernelspec": {
   "display_name": "Python 3",
   "language": "python",
   "name": "python3"
  },
  "language_info": {
   "codemirror_mode": {
    "name": "ipython",
    "version": 3
   },
   "file_extension": ".py",
   "mimetype": "text/x-python",
   "name": "python",
   "nbconvert_exporter": "python",
   "pygments_lexer": "ipython3",
   "version": "3.6.0"
  }
 },
 "nbformat": 4,
 "nbformat_minor": 2
}
